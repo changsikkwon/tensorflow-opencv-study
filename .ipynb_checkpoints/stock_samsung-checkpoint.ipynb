{
 "cells": [
  {
   "cell_type": "code",
   "execution_count": null,
   "id": "88edba81",
   "metadata": {},
   "outputs": [],
   "source": [
    "import pandas as pd\n",
    "import numpy as np\n",
    "import matplotlib.pyplot as plt\n",
    "\n",
    "from tensorflow.keras.models import Sequential\n",
    "from tensorflow.keras.layers import LSTM, Dense\n",
    "\n",
    "data = pd.read_csv(\"dataset/samsung.csv\")\n",
    "data.head()\n",
    "\n",
    "high_prices = data[\"고가\"].values\n",
    "low_prices = data[\"저가\"].values\n",
    "mid_prices = (high_prices + low_prices) / 2\n",
    "\n",
    "result = [mid_prices[index: index + 51] for index in range(len(mid_prices) - 51)]\n",
    "normalized_data = [[((float(p) / float(window[0])) - 1) for p in window] for window in result]\n",
    "result = np.array(normalized_data)\n",
    "\n",
    "row = int(round(result.shape[0] * 0.9))\n",
    "train = result[:row, :]\n",
    "np.random.shuffle(train)\n",
    "\n",
    "x_train = train[:, :-1]\n",
    "x_train = np.reshape(x_train, (x_train.shape[0], x_train.shape[1], 1))\n",
    "y_train = train[:, -1]\n",
    "\n",
    "x_test = result[row:, :-1]\n",
    "x_test = np.reshape(x_test, (x_test.shape[0], x_test.shape[1], 1))\n",
    "y_test = result[row:, -1]\n",
    "\n",
    "x_train.shape, x_test.shape\n",
    "\n",
    "# build model\n",
    "model = Sequential()\n",
    "model.add(LSTM(50, return_sequences=True, input_shape=(50, 1)))\n",
    "model.add(LSTM(64, return_sequences=False))\n",
    "model.add(Dense(1, activation=\"linear\"))\n",
    "model.compile(loss=\"mse\", optimizer=\"rmsprop\")\n",
    "model.summary()\n",
    "\n",
    "# training\n",
    "model.fit(x_train, y_train, validation_data=(x_test, y_test), batch_size=10, epochs=20)\n",
    "\n",
    "pred = model.predict(x_test)\n",
    "\n",
    "fig = plt.figure(facecolor=\"white\", figsize=(20, 10))\n",
    "ax = fig.add_subplot(111)\n",
    "ax.plot(y_test, label=\"True\")\n",
    "ax.plot(pred, label=\"Prediction\")\n",
    "ax.legend()\n",
    "plt.show()\n"
   ]
  }
 ],
 "metadata": {
  "kernelspec": {
   "display_name": "Python 3",
   "language": "python",
   "name": "python3"
  },
  "language_info": {
   "codemirror_mode": {
    "name": "ipython",
    "version": 3
   },
   "file_extension": ".py",
   "mimetype": "text/x-python",
   "name": "python",
   "nbconvert_exporter": "python",
   "pygments_lexer": "ipython3",
   "version": "3.8.8"
  }
 },
 "nbformat": 4,
 "nbformat_minor": 5
}
